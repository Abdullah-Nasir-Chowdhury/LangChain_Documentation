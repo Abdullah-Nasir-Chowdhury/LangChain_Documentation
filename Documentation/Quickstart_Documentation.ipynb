{
 "cells": [
  {
   "cell_type": "markdown",
   "metadata": {},
   "source": [
    "https://python.langchain.com/docs/get_started/quickstart"
   ]
  },
  {
   "cell_type": "code",
   "execution_count": 2,
   "metadata": {},
   "outputs": [],
   "source": [
    "# ! pip install langchain\n",
    "# ! pip install openai"
   ]
  },
  {
   "cell_type": "code",
   "execution_count": 3,
   "metadata": {},
   "outputs": [],
   "source": [
    "import openai, os\n",
    "from dotenv import main\n",
    "\n",
    "main.load_dotenv()\n",
    "\n",
    "openai.api_key = os.getenv('OPENAI_API_KEY')"
   ]
  },
  {
   "cell_type": "code",
   "execution_count": 4,
   "metadata": {},
   "outputs": [],
   "source": [
    "from langchain.llms import OpenAI\n",
    "\n",
    "llm = OpenAI(temperature=0)"
   ]
  },
  {
   "cell_type": "code",
   "execution_count": 8,
   "metadata": {},
   "outputs": [
    {
     "name": "stderr",
     "output_type": "stream",
     "text": [
      "Retrying langchain.chat_models.openai.ChatOpenAI.completion_with_retry.<locals>._completion_with_retry in 4.0 seconds as it raised Timeout: Request timed out: HTTPSConnectionPool(host='api.openai.com', port=443): Read timed out. (read timeout=600).\n"
     ]
    },
    {
     "name": "stdout",
     "output_type": "stream",
     "text": [
      ". I have a question\n",
      "\n",
      "Hi! What is your question?\n",
      "<class 'str'>\n",
      "Hello! How can I assist you today?\n",
      "<class 'str'>\n"
     ]
    }
   ],
   "source": [
    "from langchain.llms import OpenAI\n",
    "from langchain.chat_models import ChatOpenAI\n",
    "\n",
    "llm = OpenAI()\n",
    "chat_model = ChatOpenAI()\n",
    "\n",
    "llm_response=llm.predict('hi')\n",
    "chat_model_response=chat_model.predict('hi')\n",
    "\n",
    "print(llm_response) \n",
    "print(type(llm_response))\n",
    "print(chat_model_response)\n",
    "print(type(chat_model_response))"
   ]
  },
  {
   "cell_type": "code",
   "execution_count": 9,
   "metadata": {},
   "outputs": [],
   "source": [
    "text = 'What would be a good company name for donations for palestine?'\n",
    "\n",
    "llm_response=llm.predict(text)\n",
    "chat_model_response=chat_model.predict(text)"
   ]
  },
  {
   "cell_type": "code",
   "execution_count": 10,
   "metadata": {},
   "outputs": [
    {
     "name": "stdout",
     "output_type": "stream",
     "text": [
      "content='\\n\\nPalestine Giving Group'\n",
      "content='Palestine Aid Foundation\\nHope for Palestine\\nSupporting Palestine\\nPalestinian Relief Fund\\nHelping Hands for Palestine\\nPalestine Care Initiative\\nUnited for Palestine\\nPalestine Hope Project\\nPalestinian Assistance Network\\nEmpowering Palestine\\nPalestine Relief and Development Fund'\n"
     ]
    }
   ],
   "source": [
    "from langchain.schema import HumanMessage\n",
    "\n",
    "text='What would be a good company name for making donations to palestine?'\n",
    "messages = [HumanMessage(content=text)]\n",
    "\n",
    "llm_response=llm.predict_messages(messages)\n",
    "chat_model_response=chat_model.predict_messages(messages)\n",
    "\n",
    "print(llm_response)\n",
    "print(chat_model_response)"
   ]
  },
  {
   "cell_type": "code",
   "execution_count": 14,
   "metadata": {},
   "outputs": [
    {
     "name": "stdout",
     "output_type": "stream",
     "text": [
      "<class 'langchain.schema.messages.AIMessage'>\n"
     ]
    }
   ],
   "source": [
    "print(type(llm_response))"
   ]
  },
  {
   "cell_type": "code",
   "execution_count": 13,
   "metadata": {},
   "outputs": [
    {
     "name": "stdout",
     "output_type": "stream",
     "text": [
      "<class 'langchain.schema.messages.AIMessage'>\n"
     ]
    }
   ],
   "source": [
    "print(type(chat_model_response))"
   ]
  },
  {
   "cell_type": "code",
   "execution_count": 15,
   "metadata": {},
   "outputs": [
    {
     "data": {
      "text/plain": [
       "'What is a good name for a company that makes donations for the country: Palestine?'"
      ]
     },
     "execution_count": 15,
     "metadata": {},
     "output_type": "execute_result"
    }
   ],
   "source": [
    "from langchain.prompts import PromptTemplate, ChatPromptTemplate\n",
    "\n",
    "prompt = PromptTemplate.from_template('What is a good name for a company that makes donations for the country: {country}?')\n",
    "prompt.format(country='Palestine')"
   ]
  },
  {
   "cell_type": "code",
   "execution_count": 19,
   "metadata": {},
   "outputs": [
    {
     "data": {
      "text/plain": [
       "[SystemMessage(content='You are a helpful assistant that translates English to Japanese'),\n",
       " HumanMessage(content='I love programming')]"
      ]
     },
     "execution_count": 19,
     "metadata": {},
     "output_type": "execute_result"
    }
   ],
   "source": [
    "from langchain.prompts.chat import ChatPromptTemplate\n",
    "\n",
    "system_template = 'You are a helpful assistant that translates {input_language} to {output_language}'\n",
    "human_template = '{text}'\n",
    "\n",
    "chat_prompt = ChatPromptTemplate.from_messages([\n",
    "    ('system', system_template),\n",
    "    ('human', human_template)\n",
    "])\n",
    "\n",
    "chat_prompt.format_messages(input_language='English', output_language='Japanese', text='I love programming')"
   ]
  },
  {
   "cell_type": "code",
   "execution_count": 21,
   "metadata": {},
   "outputs": [
    {
     "data": {
      "text/plain": [
       "['hi', ' bye']"
      ]
     },
     "execution_count": 21,
     "metadata": {},
     "output_type": "execute_result"
    }
   ],
   "source": [
    "from langchain.schema import BaseOutputParser\n",
    "\n",
    "class CommaSeperatedListOutputParser(BaseOutputParser):\n",
    "    def parse(self, text: str):\n",
    "        return text.strip().split(',')\n",
    "\n",
    "CommaSeperatedListOutputParser().parse('hi, bye')"
   ]
  },
  {
   "cell_type": "code",
   "execution_count": 27,
   "metadata": {},
   "outputs": [
    {
     "data": {
      "text/plain": [
       "['UNICEF',\n",
       " ' Red Cross',\n",
       " ' Save the Children',\n",
       " ' Islamic Relief',\n",
       " ' Doctors Without Borders']"
      ]
     },
     "execution_count": 27,
     "metadata": {},
     "output_type": "execute_result"
    }
   ],
   "source": [
    "from langchain.chat_models import ChatOpenAI\n",
    "from langchain.prompts.chat import ChatPromptTemplate\n",
    "from langchain.schema import BaseOutputParser\n",
    "\n",
    "class CommaSeperatedListOutputParser(BaseOutputParser):\n",
    "    def parse(self, text: str):\n",
    "        return text.strip().split(',')\n",
    "    \n",
    "system_template = '''You are a helpful assistant who generates comma seperated \\\n",
    "    lists. A user will pass in a prompt and you should generate 5 objects \\\n",
    "        in that category in a comma seperated list.\\\n",
    "            Only return a comma seperated list and nothing more.'''\n",
    "human_template='{text}'\n",
    "\n",
    "chat_prompt = ChatPromptTemplate.from_messages([\n",
    "    ('system', system_template),\n",
    "    ('human', human_template)\n",
    "])\n",
    "\n",
    "chain = chat_prompt | ChatOpenAI() | CommaSeperatedListOutputParser()\n",
    "chain.invoke({'text':'name of a company for donation for palestine'})"
   ]
  },
  {
   "cell_type": "code",
   "execution_count": null,
   "metadata": {},
   "outputs": [],
   "source": []
  }
 ],
 "metadata": {
  "kernelspec": {
   "display_name": "Python 3",
   "language": "python",
   "name": "python3"
  },
  "language_info": {
   "codemirror_mode": {
    "name": "ipython",
    "version": 3
   },
   "file_extension": ".py",
   "mimetype": "text/x-python",
   "name": "python",
   "nbconvert_exporter": "python",
   "pygments_lexer": "ipython3",
   "version": "3.11.6"
  }
 },
 "nbformat": 4,
 "nbformat_minor": 2
}
